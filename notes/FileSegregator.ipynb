{
 "cells": [
  {
   "cell_type": "code",
   "execution_count": 42,
   "metadata": {},
   "outputs": [],
   "source": [
    "import os\n",
    "import shutil\n",
    "\n",
    "import numpy as np\n",
    "import pandas as pd\n",
    "\n",
    "from sklearn.model_selection import train_test_split"
   ]
  },
  {
   "cell_type": "code",
   "execution_count": 43,
   "metadata": {},
   "outputs": [],
   "source": [
    "np.random.seed(42)"
   ]
  },
  {
   "cell_type": "code",
   "execution_count": 44,
   "metadata": {},
   "outputs": [],
   "source": [
    "home = os.path.dirname(os.getcwd())"
   ]
  },
  {
   "cell_type": "code",
   "execution_count": 45,
   "metadata": {},
   "outputs": [],
   "source": [
    "images_dir = \"D:\\\\images\"\n",
    "destination_dir = \"D:\\\\FinalImages\"\n",
    "labels_dir = \"D:\\\\labels\""
   ]
  },
  {
   "cell_type": "code",
   "execution_count": 46,
   "metadata": {},
   "outputs": [],
   "source": [
    "df = pd.read_csv(os.path.join(labels_dir, \"val.txt\"), sep=\" \", header=None, names=['ImagePath', 'Class'])"
   ]
  },
  {
   "cell_type": "code",
   "execution_count": 47,
   "metadata": {},
   "outputs": [],
   "source": [
    "df[\"FileName\"] = df[\"ImagePath\"].str.replace(\"/\", \"_\")"
   ]
  },
  {
   "cell_type": "code",
   "execution_count": 48,
   "metadata": {},
   "outputs": [
    {
     "name": "stderr",
     "output_type": "stream",
     "text": [
      "C:\\ProgramData\\Anaconda3\\lib\\site-packages\\sklearn\\model_selection\\_split.py:2026: FutureWarning: From version 0.21, test_size will always complement train_size unless both are specified.\n",
      "  FutureWarning)\n",
      "C:\\ProgramData\\Anaconda3\\lib\\site-packages\\ipykernel_launcher.py:3: SettingWithCopyWarning: \n",
      "A value is trying to be set on a copy of a slice from a DataFrame.\n",
      "Try using .loc[row_indexer,col_indexer] = value instead\n",
      "\n",
      "See the caveats in the documentation: http://pandas.pydata.org/pandas-docs/stable/indexing.html#indexing-view-versus-copy\n",
      "  This is separate from the ipykernel package so we can avoid doing imports until\n",
      "C:\\ProgramData\\Anaconda3\\lib\\site-packages\\ipykernel_launcher.py:4: SettingWithCopyWarning: \n",
      "A value is trying to be set on a copy of a slice from a DataFrame.\n",
      "Try using .loc[row_indexer,col_indexer] = value instead\n",
      "\n",
      "See the caveats in the documentation: http://pandas.pydata.org/pandas-docs/stable/indexing.html#indexing-view-versus-copy\n",
      "  after removing the cwd from sys.path.\n"
     ]
    }
   ],
   "source": [
    "build_df, valid_df = train_test_split(df, train_size=16*50, stratify=df[\"Class\"], random_state=42, shuffle=True)\n",
    "\n",
    "build_df[\"Set\"] = \"Train\"\n",
    "valid_df[\"Set\"] = \"Valid\"\n",
    "\n",
    "df = build_df.append(valid_df)"
   ]
  },
  {
   "cell_type": "code",
   "execution_count": 49,
   "metadata": {},
   "outputs": [
    {
     "data": {
      "text/plain": [
       "11    2576\n",
       "1     2537\n",
       "15    2533\n",
       "7     2531\n",
       "2     2530\n",
       "9     2526\n",
       "6     2526\n",
       "4     2522\n",
       "13    2517\n",
       "5     2508\n",
       "10    2485\n",
       "12    2468\n",
       "8     2451\n",
       "3     2434\n",
       "0     2430\n",
       "14    2426\n",
       "Name: Class, dtype: int64"
      ]
     },
     "execution_count": 49,
     "metadata": {},
     "output_type": "execute_result"
    }
   ],
   "source": [
    "df['Class'].value_counts()"
   ]
  },
  {
   "cell_type": "code",
   "execution_count": 50,
   "metadata": {},
   "outputs": [
    {
     "data": {
      "text/html": [
       "<div>\n",
       "<style scoped>\n",
       "    .dataframe tbody tr th:only-of-type {\n",
       "        vertical-align: middle;\n",
       "    }\n",
       "\n",
       "    .dataframe tbody tr th {\n",
       "        vertical-align: top;\n",
       "    }\n",
       "\n",
       "    .dataframe thead th {\n",
       "        text-align: right;\n",
       "    }\n",
       "</style>\n",
       "<table border=\"1\" class=\"dataframe\">\n",
       "  <thead>\n",
       "    <tr style=\"text-align: right;\">\n",
       "      <th></th>\n",
       "      <th>ImagePath</th>\n",
       "      <th>Class</th>\n",
       "      <th>FileName</th>\n",
       "      <th>Set</th>\n",
       "    </tr>\n",
       "  </thead>\n",
       "  <tbody>\n",
       "    <tr>\n",
       "      <th>39103</th>\n",
       "      <td>imagesx/x/r/f/xrf36c00/2078784341e_4342.tif</td>\n",
       "      <td>2</td>\n",
       "      <td>imagesx_x_r_f_xrf36c00_2078784341e_4342.tif</td>\n",
       "      <td>Train</td>\n",
       "    </tr>\n",
       "    <tr>\n",
       "      <th>8718</th>\n",
       "      <td>imagesm/m/h/d/mhd15a00/528859074+-9074.tif</td>\n",
       "      <td>2</td>\n",
       "      <td>imagesm_m_h_d_mhd15a00_528859074+-9074.tif</td>\n",
       "      <td>Train</td>\n",
       "    </tr>\n",
       "    <tr>\n",
       "      <th>13532</th>\n",
       "      <td>imagesh/h/c/h/hch14c00/2069726057.tif</td>\n",
       "      <td>7</td>\n",
       "      <td>imagesh_h_c_h_hch14c00_2069726057.tif</td>\n",
       "      <td>Train</td>\n",
       "    </tr>\n",
       "    <tr>\n",
       "      <th>14732</th>\n",
       "      <td>imagesa/a/c/j/acj33e00/2062543525.tif</td>\n",
       "      <td>8</td>\n",
       "      <td>imagesa_a_c_j_acj33e00_2062543525.tif</td>\n",
       "      <td>Train</td>\n",
       "    </tr>\n",
       "    <tr>\n",
       "      <th>21114</th>\n",
       "      <td>imageso/o/k/t/okt55d00/504758236_504758238.tif</td>\n",
       "      <td>7</td>\n",
       "      <td>imageso_o_k_t_okt55d00_504758236_504758238.tif</td>\n",
       "      <td>Train</td>\n",
       "    </tr>\n",
       "  </tbody>\n",
       "</table>\n",
       "</div>"
      ],
      "text/plain": [
       "                                            ImagePath  Class  \\\n",
       "39103     imagesx/x/r/f/xrf36c00/2078784341e_4342.tif      2   \n",
       "8718       imagesm/m/h/d/mhd15a00/528859074+-9074.tif      2   \n",
       "13532           imagesh/h/c/h/hch14c00/2069726057.tif      7   \n",
       "14732           imagesa/a/c/j/acj33e00/2062543525.tif      8   \n",
       "21114  imageso/o/k/t/okt55d00/504758236_504758238.tif      7   \n",
       "\n",
       "                                             FileName    Set  \n",
       "39103     imagesx_x_r_f_xrf36c00_2078784341e_4342.tif  Train  \n",
       "8718       imagesm_m_h_d_mhd15a00_528859074+-9074.tif  Train  \n",
       "13532           imagesh_h_c_h_hch14c00_2069726057.tif  Train  \n",
       "14732           imagesa_a_c_j_acj33e00_2062543525.tif  Train  \n",
       "21114  imageso_o_k_t_okt55d00_504758236_504758238.tif  Train  "
      ]
     },
     "execution_count": 50,
     "metadata": {},
     "output_type": "execute_result"
    }
   ],
   "source": [
    "df.head()"
   ]
  },
  {
   "cell_type": "code",
   "execution_count": 51,
   "metadata": {},
   "outputs": [],
   "source": [
    "for record in df.to_dict(orient=\"records\"):\n",
    "    source = os.path.join(images_dir, record[\"ImagePath\"])\n",
    "    \n",
    "    destination_folder = os.path.join(destination_dir, record[\"Set\"], str(record[\"Class\"]))\n",
    "    destination = os.path.join(destination_folder, record[\"FileName\"])\n",
    "    os.makedirs(destination_folder, exist_ok=True)\n",
    "    #os.path.join(home, \"data\", \"final\", row[\"imagePath\"], row[\"Class\"], \n",
    "    shutil.move(source, destination)"
   ]
  },
  {
   "cell_type": "code",
   "execution_count": null,
   "metadata": {},
   "outputs": [],
   "source": []
  }
 ],
 "metadata": {
  "kernelspec": {
   "display_name": "Python 3",
   "language": "python",
   "name": "python3"
  },
  "language_info": {
   "codemirror_mode": {
    "name": "ipython",
    "version": 3
   },
   "file_extension": ".py",
   "mimetype": "text/x-python",
   "name": "python",
   "nbconvert_exporter": "python",
   "pygments_lexer": "ipython3",
   "version": "3.6.6"
  }
 },
 "nbformat": 4,
 "nbformat_minor": 2
}
