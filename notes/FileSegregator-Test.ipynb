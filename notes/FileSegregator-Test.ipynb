{
 "cells": [
  {
   "cell_type": "code",
   "execution_count": 1,
   "metadata": {},
   "outputs": [],
   "source": [
    "import os\n",
    "import shutil\n",
    "\n",
    "import numpy as np\n",
    "import pandas as pd\n",
    "\n",
    "from sklearn.model_selection import train_test_split"
   ]
  },
  {
   "cell_type": "code",
   "execution_count": 2,
   "metadata": {},
   "outputs": [],
   "source": [
    "np.random.seed(42)"
   ]
  },
  {
   "cell_type": "code",
   "execution_count": 3,
   "metadata": {},
   "outputs": [],
   "source": [
    "home = os.path.dirname(os.getcwd())"
   ]
  },
  {
   "cell_type": "code",
   "execution_count": 4,
   "metadata": {},
   "outputs": [],
   "source": [
    "images_dir = \"D:\\\\images\"\n",
    "destination_dir = \"D:\\\\FinalImages\"\n",
    "labels_dir = \"D:\\\\labels\""
   ]
  },
  {
   "cell_type": "code",
   "execution_count": 5,
   "metadata": {},
   "outputs": [],
   "source": [
    "df = pd.read_csv(os.path.join(labels_dir, \"test.txt\"), sep=\" \", header=None, names=['ImagePath', 'Class'])"
   ]
  },
  {
   "cell_type": "code",
   "execution_count": 6,
   "metadata": {},
   "outputs": [],
   "source": [
    "df[\"FileName\"] = df[\"ImagePath\"].str.replace(\"/\", \"_\")"
   ]
  },
  {
   "cell_type": "code",
   "execution_count": 7,
   "metadata": {},
   "outputs": [
    {
     "name": "stderr",
     "output_type": "stream",
     "text": [
      "C:\\ProgramData\\Anaconda3\\lib\\site-packages\\sklearn\\model_selection\\_split.py:2026: FutureWarning: From version 0.21, test_size will always complement train_size unless both are specified.\n",
      "  FutureWarning)\n",
      "C:\\ProgramData\\Anaconda3\\lib\\site-packages\\ipykernel_launcher.py:4: SettingWithCopyWarning: \n",
      "A value is trying to be set on a copy of a slice from a DataFrame.\n",
      "Try using .loc[row_indexer,col_indexer] = value instead\n",
      "\n",
      "See the caveats in the documentation: http://pandas.pydata.org/pandas-docs/stable/indexing.html#indexing-view-versus-copy\n",
      "  after removing the cwd from sys.path.\n"
     ]
    }
   ],
   "source": [
    "build_df, valid_df = train_test_split(df, train_size=16*50, stratify=df[\"Class\"], random_state=42, shuffle=True)\n",
    "valid_df, test_df = train_test_split(valid_df, train_size=16*50, stratify=valid_df[\"Class\"], random_state=42, shuffle=True)\n",
    "\n",
    "build_df[\"Set\"] = \"Train_2\"\n",
    "valid_df[\"Set\"] = \"Valid_2\"\n",
    "test_df[\"Set\"] = \"Test_2\"\n",
    "\n",
    "df = build_df.append(valid_df.append(test_df))"
   ]
  },
  {
   "cell_type": "code",
   "execution_count": 8,
   "metadata": {},
   "outputs": [
    {
     "data": {
      "text/plain": [
       "6     2572\n",
       "14    2537\n",
       "3     2532\n",
       "8     2527\n",
       "2     2516\n",
       "4     2515\n",
       "1     2506\n",
       "10    2505\n",
       "5     2498\n",
       "15    2492\n",
       "12    2489\n",
       "11    2477\n",
       "7     2472\n",
       "0     2464\n",
       "9     2463\n",
       "13    2435\n",
       "Name: Class, dtype: int64"
      ]
     },
     "execution_count": 8,
     "metadata": {},
     "output_type": "execute_result"
    }
   ],
   "source": [
    "df['Class'].value_counts()"
   ]
  },
  {
   "cell_type": "code",
   "execution_count": 9,
   "metadata": {},
   "outputs": [
    {
     "data": {
      "text/html": [
       "<div>\n",
       "<style scoped>\n",
       "    .dataframe tbody tr th:only-of-type {\n",
       "        vertical-align: middle;\n",
       "    }\n",
       "\n",
       "    .dataframe tbody tr th {\n",
       "        vertical-align: top;\n",
       "    }\n",
       "\n",
       "    .dataframe thead th {\n",
       "        text-align: right;\n",
       "    }\n",
       "</style>\n",
       "<table border=\"1\" class=\"dataframe\">\n",
       "  <thead>\n",
       "    <tr style=\"text-align: right;\">\n",
       "      <th></th>\n",
       "      <th>ImagePath</th>\n",
       "      <th>Class</th>\n",
       "      <th>FileName</th>\n",
       "      <th>Set</th>\n",
       "    </tr>\n",
       "  </thead>\n",
       "  <tbody>\n",
       "    <tr>\n",
       "      <th>37616</th>\n",
       "      <td>imagesd/d/d/n/ddn11a00/0011857138.tif</td>\n",
       "      <td>0</td>\n",
       "      <td>imagesd_d_d_n_ddn11a00_0011857138.tif</td>\n",
       "      <td>Train_2</td>\n",
       "    </tr>\n",
       "    <tr>\n",
       "      <th>26930</th>\n",
       "      <td>imagesf/f/r/f/frf94c00/99171310_1312.tif</td>\n",
       "      <td>12</td>\n",
       "      <td>imagesf_f_r_f_frf94c00_99171310_1312.tif</td>\n",
       "      <td>Train_2</td>\n",
       "    </tr>\n",
       "    <tr>\n",
       "      <th>26097</th>\n",
       "      <td>imagesv/v/e/l/vel62f00/tob12124.09.tif</td>\n",
       "      <td>9</td>\n",
       "      <td>imagesv_v_e_l_vel62f00_tob12124.09.tif</td>\n",
       "      <td>Train_2</td>\n",
       "    </tr>\n",
       "    <tr>\n",
       "      <th>18569</th>\n",
       "      <td>imagesf/f/r/l/frl76e00/2050039117.tif</td>\n",
       "      <td>5</td>\n",
       "      <td>imagesf_f_r_l_frl76e00_2050039117.tif</td>\n",
       "      <td>Train_2</td>\n",
       "    </tr>\n",
       "    <tr>\n",
       "      <th>35460</th>\n",
       "      <td>imagesu/u/b/f/ubf73c00/2065430477.tif</td>\n",
       "      <td>9</td>\n",
       "      <td>imagesu_u_b_f_ubf73c00_2065430477.tif</td>\n",
       "      <td>Train_2</td>\n",
       "    </tr>\n",
       "  </tbody>\n",
       "</table>\n",
       "</div>"
      ],
      "text/plain": [
       "                                      ImagePath  Class  \\\n",
       "37616     imagesd/d/d/n/ddn11a00/0011857138.tif      0   \n",
       "26930  imagesf/f/r/f/frf94c00/99171310_1312.tif     12   \n",
       "26097    imagesv/v/e/l/vel62f00/tob12124.09.tif      9   \n",
       "18569     imagesf/f/r/l/frl76e00/2050039117.tif      5   \n",
       "35460     imagesu/u/b/f/ubf73c00/2065430477.tif      9   \n",
       "\n",
       "                                       FileName      Set  \n",
       "37616     imagesd_d_d_n_ddn11a00_0011857138.tif  Train_2  \n",
       "26930  imagesf_f_r_f_frf94c00_99171310_1312.tif  Train_2  \n",
       "26097    imagesv_v_e_l_vel62f00_tob12124.09.tif  Train_2  \n",
       "18569     imagesf_f_r_l_frl76e00_2050039117.tif  Train_2  \n",
       "35460     imagesu_u_b_f_ubf73c00_2065430477.tif  Train_2  "
      ]
     },
     "execution_count": 9,
     "metadata": {},
     "output_type": "execute_result"
    }
   ],
   "source": [
    "df.head()"
   ]
  },
  {
   "cell_type": "code",
   "execution_count": 10,
   "metadata": {},
   "outputs": [],
   "source": [
    "for record in df.to_dict(orient=\"records\"):\n",
    "    source = os.path.join(images_dir, record[\"ImagePath\"])\n",
    "    \n",
    "    destination_folder = os.path.join(destination_dir, record[\"Set\"], str(record[\"Class\"]))\n",
    "    destination = os.path.join(destination_folder, record[\"FileName\"])\n",
    "    os.makedirs(destination_folder, exist_ok=True)\n",
    "    #os.path.join(home, \"data\", \"final\", row[\"imagePath\"], row[\"Class\"], \n",
    "    shutil.move(source, destination)"
   ]
  },
  {
   "cell_type": "code",
   "execution_count": null,
   "metadata": {},
   "outputs": [],
   "source": []
  }
 ],
 "metadata": {
  "kernelspec": {
   "display_name": "Python 3",
   "language": "python",
   "name": "python3"
  },
  "language_info": {
   "codemirror_mode": {
    "name": "ipython",
    "version": 3
   },
   "file_extension": ".py",
   "mimetype": "text/x-python",
   "name": "python",
   "nbconvert_exporter": "python",
   "pygments_lexer": "ipython3",
   "version": "3.6.6"
  }
 },
 "nbformat": 4,
 "nbformat_minor": 2
}
